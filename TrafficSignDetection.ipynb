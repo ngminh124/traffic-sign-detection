{
  "nbformat": 4,
  "nbformat_minor": 0,
  "metadata": {
    "colab": {
      "provenance": [],
      "authorship_tag": "ABX9TyMTgE786t8M0FGrBvjDVMq1",
      "include_colab_link": true
    },
    "kernelspec": {
      "name": "python3",
      "display_name": "Python 3"
    },
    "language_info": {
      "name": "python"
    }
  },
  "cells": [
    {
      "cell_type": "markdown",
      "metadata": {
        "id": "view-in-github",
        "colab_type": "text"
      },
      "source": [
        "<a href=\"https://colab.research.google.com/github/ngminh124/traffic-sign-detection/blob/main/TrafficSignDetection.ipynb\" target=\"_parent\"><img src=\"https://colab.research.google.com/assets/colab-badge.svg\" alt=\"Open In Colab\"/></a>"
      ]
    },
    {
      "cell_type": "code",
      "source": [
        "from google.colab import files\n",
        "from google.colab import drive\n",
        "import os\n",
        "\n",
        "# Gắn kết Google Drive trước để kiểm tra dữ liệu\n",
        "try:\n",
        "    drive.mount('/content/drive', force_remount=True)\n",
        "except Exception as e:\n",
        "    print(f\"Lỗi khi gắn kết Google Drive: {e}\")\n",
        "    raise\n",
        "\n",
        "# Kiểm tra xem dữ liệu có tồn tại trong Drive hay không\n",
        "dataset_path = '/content/drive/MyDrive/road-sign-detection'\n",
        "\n",
        "if not os.path.exists(dataset_path):\n",
        "    print(\"Không tìm thấy dữ liệu trong Drive. Đang tải và giải nén...\")\n",
        "\n",
        "    # Tải lên khóa API Kaggle\n",
        "    try:\n",
        "        uploaded = files.upload()\n",
        "        if 'kaggle.json' not in uploaded:\n",
        "            raise FileNotFoundError(\"Vui lòng tải lên tệp kaggle.json.\")\n",
        "    except Exception as e:\n",
        "        print(f\"Lỗi khi tải lên khóa API Kaggle: {e}\")\n",
        "        raise\n",
        "\n",
        "    # Thiết lập Kaggle\n",
        "    !mkdir -p ~/.kaggle\n",
        "    !cp kaggle.json ~/.kaggle/\n",
        "    !chmod 600 ~/.kaggle/kaggle.json\n",
        "    !kaggle --version\n",
        "\n",
        "    # Tải dữ liệu từ Kaggle\n",
        "    !kaggle datasets download -d andrewmvd/road-sign-detection -p /content/\n",
        "\n",
        "    # Xóa các thư mục annotations và images nếu đã tồn tại\n",
        "    !rm -rf /content/annotations /content/images\n",
        "\n",
        "    # Giải nén dữ liệu\n",
        "    !unzip /content/road-sign-detection.zip -d /content/\n",
        "\n",
        "    # Sao chép dữ liệu vào Drive\n",
        "    !mkdir -p /content/drive/MyDrive/road-sign-detection/\n",
        "else:\n",
        "    print(\"Dữ liệu đã có sẵn trong Drive. Không cần tải lại.\")\n",
        "if not os.path.exists('/content/images') or not os.path.exists('/content/annotations'):\n",
        "    print(\"Không tìm thấy thư mục images hoặc annotations trong /content/. Đang sao chép từ Drive...\")\n",
        "    if os.path.exists(os.path.join(dataset_path, 'images')) and os.path.exists(os.path.join(dataset_path, 'annotations')):\n",
        "        !cp -r /content/drive/MyDrive/road-sign-detection/images /content/\n",
        "        !cp -r /content/drive/MyDrive/road-sign-detection/annotations /content/\n",
        "        print(\"Đã sao chép dữ liệu từ Drive sang /content/.\")\n",
        "    else:\n",
        "        print(\"Lỗi: Không tìm thấy thư mục images hoặc annotations trong Drive. Vui lòng kiểm tra lại.\")\n",
        "else:\n",
        "    print(\"Thư mục images và annotations đã tồn tại trong /content/. Bỏ qua bước sao chép.\")"
      ],
      "metadata": {
        "collapsed": true,
        "id": "Pa5raLGM0hGB",
        "colab": {
          "base_uri": "https://localhost:8080/"
        },
        "outputId": "4f3b70d8-65f4-4721-af49-d785d1ad5c29"
      },
      "execution_count": 40,
      "outputs": [
        {
          "output_type": "stream",
          "name": "stdout",
          "text": [
            "Mounted at /content/drive\n",
            "Dữ liệu đã có sẵn trong Drive. Không cần tải lại.\n",
            "Thư mục images và annotations đã tồn tại trong /content/. Bỏ qua bước sao chép.\n"
          ]
        }
      ]
    },
    {
      "cell_type": "code",
      "execution_count": 41,
      "metadata": {
        "id": "AaALiAbrv3J1"
      },
      "outputs": [],
      "source": [
        "import time\n",
        "import os\n",
        "import cv2\n",
        "import numpy as np\n",
        "import pandas as pd\n",
        "import matplotlib.pyplot as plt\n",
        "import xml.etree.ElementTree as ET\n",
        "\n",
        "from skimage.transform import resize\n",
        "from skimage import feature\n",
        "from sklearn.svm import SVC\n",
        "from sklearn.preprocessing import LabelEncoder\n",
        "from sklearn.preprocessing import StandardScaler\n",
        "from sklearn.model_selection import train_test_split\n",
        "from sklearn.metrics import accuracy_score"
      ]
    },
    {
      "cell_type": "code",
      "source": [
        "# đọc 1 file xml cụ thể sử dụng ElementTree\n",
        "\n",
        "xml_file = '/content/annotations/road0.xml'\n",
        "tree = ET.parse(xml_file)\n",
        "root = tree.getroot()\n",
        "folder_name = root.find('folder').text\n",
        "filename = root.find('filename').text\n",
        "print (f'Folder: {folder_name}')\n",
        "print(f'Filename: {filename}')\n",
        "\n",
        "# đọc tất cả các object có trong thẻ object của file xml đó\n",
        "\n",
        "for obj in root.findall('object'):\n",
        "  classname=obj.find('name').text\n",
        "  xmin=int(obj.find('bndbox/xmin').text)\n",
        "  ymin=int(obj.find('bndbox/ymin').text)\n",
        "  xmax=int(obj.find('bndbox/xmax').text)\n",
        "  ymax=int(obj.find('bndbox/ymax').text)\n",
        "print(f'Class name: {classname}')\n",
        "print(f'Bounding box: {(xmin, ymin, xmax, ymax)}')"
      ],
      "metadata": {
        "colab": {
          "base_uri": "https://localhost:8080/"
        },
        "id": "HozGhBnK2HJh",
        "outputId": "6183149d-f6d0-4d60-c938-69bfc0cb8c28"
      },
      "execution_count": 42,
      "outputs": [
        {
          "output_type": "stream",
          "name": "stdout",
          "text": [
            "Folder: images\n",
            "Filename: road0.png\n",
            "Class name: trafficlight\n",
            "Bounding box: (98, 62, 208, 232)\n"
          ]
        }
      ]
    },
    {
      "cell_type": "code",
      "source": [
        "# đọc toàn bộ datasets\n",
        "# đọc qua các file annotations bằng hàm listdr của module os\n",
        "# đọc ảnh thông qua thư viện opencv\n",
        "annotations_dir = '/content/annotations'\n",
        "img_dir = '/content/images'\n",
        "img_lst = []\n",
        "label_lst = []\n",
        "for xml_file in os.listdir (annotations_dir):\n",
        "\n",
        "  xml_filepath = os.path.join(annotations_dir, xml_file)\n",
        "\n",
        "  tree=ET.parse(xml_filepath)\n",
        "\n",
        "  root=tree.getroot()\n",
        "\n",
        "  folder = root.find('folder').text\n",
        "\n",
        "  img_filename = root.find('filename').text\n",
        "\n",
        "  img_filepath = os.path.join(img_dir, img_filename)\n",
        "\n",
        "  img = cv2.imread(img_filepath)\n",
        "  for obj in root.findall('object'):\n",
        "      classname = obj.find('name').text\n",
        "      if classname == 'trafficlight':\n",
        "          continue\n",
        "      xmin = int(obj.find('bndbox/xmin').text)\n",
        "      ymin= int(obj.find('bndbox/ymin').text)\n",
        "      xmax = int(obj.find('bndbox/xmax').text)\n",
        "      ymax = int(obj.find('bndbox/ymax').text)\n",
        "      object_img = img[ymin:ymax, xmin: xmax]\n",
        "      img_lst.append(object_img)\n",
        "      label_lst.append(classname)\n",
        "print(f'Number of images in datasets: {len(img_lst)}')\n",
        "print(f'Classes names: {list(set(label_lst))}')"
      ],
      "metadata": {
        "colab": {
          "base_uri": "https://localhost:8080/"
        },
        "id": "S0dphhwN3bTh",
        "outputId": "9d67e180-7b24-47cd-a970-0a55ed1ba650"
      },
      "execution_count": 43,
      "outputs": [
        {
          "output_type": "stream",
          "name": "stdout",
          "text": [
            "Number of images in datasets: 1074\n",
            "Classes names: ['crosswalk', 'stop', 'speedlimit']\n"
          ]
        }
      ]
    },
    {
      "cell_type": "code",
      "source": [
        "print(f'original shape: {img_lst[0].shape}')"
      ],
      "metadata": {
        "colab": {
          "base_uri": "https://localhost:8080/"
        },
        "id": "LfZ5mWtt8iOJ",
        "outputId": "d2060096-9f1e-4494-aa9b-375b239d74be"
      },
      "execution_count": 44,
      "outputs": [
        {
          "output_type": "stream",
          "name": "stdout",
          "text": [
            "original shape: (26, 27, 3)\n"
          ]
        }
      ]
    },
    {
      "cell_type": "code",
      "source": [
        "# chuyển shape sử dụng flatten của ảnh gốc ban đầu từ vector 3D thành vector 1D để phục vụ cho việc train theo model SVM\n",
        "flattened_img =img_lst[0].flatten()\n",
        "print(f'flattend shape: {flattened_img.shape}')"
      ],
      "metadata": {
        "colab": {
          "base_uri": "https://localhost:8080/"
        },
        "id": "4cMyY0gX9naS",
        "outputId": "3720fac2-058d-497a-c61a-8f617e583aa1"
      },
      "execution_count": 45,
      "outputs": [
        {
          "output_type": "stream",
          "name": "stdout",
          "text": [
            "flattend shape: (2106,)\n"
          ]
        }
      ]
    },
    {
      "cell_type": "code",
      "source": [
        "# sử dụng HOG thay vì flatten\n",
        "def preprocess_img(img):\n",
        "  if len(img.shape) > 2:\n",
        "    img = cv2.cvtColor(img, cv2.COLOR_BGR2GRAY)\n",
        "  img=img.astype(np.float32)\n",
        "  resized_img = resize(\n",
        "      img,\n",
        "      output_shape=(32, 32),\n",
        "      anti_aliasing=True\n",
        "  )\n",
        "  hog_feature = feature.hog(\n",
        "      resized_img,\n",
        "      orientations=9,\n",
        "      pixels_per_cell=(8, 8),\n",
        "      cells_per_block=(2, 2),\n",
        "      transform_sqrt=True,\n",
        "      block_norm=\"L2\",\n",
        "      feature_vector=True\n",
        "  )\n",
        "  return hog_feature"
      ],
      "metadata": {
        "id": "ppeHrH3HFOIz"
      },
      "execution_count": 46,
      "outputs": []
    },
    {
      "cell_type": "code",
      "source": [
        "img_features_lst =[]\n",
        "for img in img_lst:\n",
        "  hog_feature = preprocess_img(img)\n",
        "  img_features_lst.append(hog_feature)\n",
        "img_features= np.array(img_features_lst)\n",
        "print(\"X shape: \")\n",
        "print(img_features.shape)"
      ],
      "metadata": {
        "colab": {
          "base_uri": "https://localhost:8080/"
        },
        "id": "KougEfqyGfgD",
        "outputId": "80b72ea7-f6a1-4897-e73e-681c9c8d078c"
      },
      "execution_count": 47,
      "outputs": [
        {
          "output_type": "stream",
          "name": "stdout",
          "text": [
            "X shape: \n",
            "(1074, 324)\n"
          ]
        }
      ]
    },
    {
      "cell_type": "code",
      "source": [
        "# encode label thành dạng số để phục vụ cho việc train\n",
        "label_encoder= LabelEncoder()\n",
        "encoded_labels= label_encoder.fit_transform(label_lst)\n",
        "print(label_encoder.classes_)\n",
        "encoded_labels"
      ],
      "metadata": {
        "colab": {
          "base_uri": "https://localhost:8080/"
        },
        "id": "6nD2fGyUJkjw",
        "outputId": "546c04b3-572e-44c8-e946-aa4e90fb0385"
      },
      "execution_count": 48,
      "outputs": [
        {
          "output_type": "stream",
          "name": "stdout",
          "text": [
            "['crosswalk' 'speedlimit' 'stop']\n"
          ]
        },
        {
          "output_type": "execute_result",
          "data": {
            "text/plain": [
              "array([0, 1, 1, ..., 0, 0, 1])"
            ]
          },
          "metadata": {},
          "execution_count": 48
        }
      ]
    },
    {
      "cell_type": "code",
      "source": [
        "random_state=0\n",
        "test_size=0.3\n",
        "is_shuffle= True\n",
        "X_train, X_val, y_train, y_val = train_test_split(\n",
        "    img_features, encoded_labels,\n",
        "    test_size=test_size,\n",
        "    random_state=random_state,\n",
        "    shuffle=is_shuffle\n",
        ")"
      ],
      "metadata": {
        "id": "8bIRPaydKO69"
      },
      "execution_count": 49,
      "outputs": []
    },
    {
      "cell_type": "code",
      "source": [
        "# thực hiện chuẩn hóa cho tập train và validate\n",
        "scaler= StandardScaler()\n",
        "X_train= scaler.fit_transform(X_train) # tính normalization mà fit trên tập train sau đó chuẩn hóa lại cho cả tập train và validate\n",
        "X_val= scaler.transform(X_val)\n",
        "X_train"
      ],
      "metadata": {
        "colab": {
          "base_uri": "https://localhost:8080/"
        },
        "id": "osgtaXo-LWHH",
        "outputId": "bfffe5a3-4f1f-441e-a897-3ff8c17327d0"
      },
      "execution_count": 50,
      "outputs": [
        {
          "output_type": "execute_result",
          "data": {
            "text/plain": [
              "array([[-0.33732262,  0.3281256 ,  0.770797  , ..., -0.2546631 ,\n",
              "        -0.27083653, -0.11421215],\n",
              "       [-0.59000504, -0.19402617, -0.02702975, ..., -0.5851218 ,\n",
              "        -0.45722657, -0.6131916 ],\n",
              "       [ 1.2676431 , -0.9536419 , -1.6127506 , ...,  0.47836393,\n",
              "         0.44104502,  0.98570853],\n",
              "       ...,\n",
              "       [-0.40224078, -0.24112378,  1.7597884 , ..., -0.3542667 ,\n",
              "        -0.15691106, -0.26655754],\n",
              "       [-0.10172174, -1.2310601 , -1.5797845 , ...,  0.96458423,\n",
              "         4.0510373 , -0.16232808],\n",
              "       [-0.7668894 , -0.43513182,  0.74849004, ..., -0.4829194 ,\n",
              "        -0.5087883 , -0.5426741 ]], dtype=float32)"
            ]
          },
          "metadata": {},
          "execution_count": 50
        }
      ]
    },
    {
      "cell_type": "code",
      "source": [
        "# train và đánh giá model\n",
        "clf= SVC(\n",
        "    kernel='rbf',\n",
        "    random_state=random_state,\n",
        "    probability=True,\n",
        "    C=0.5\n",
        "\n",
        ")\n",
        "clf.fit(X_train, y_train)\n",
        "y_pred=clf.predict(X_val)\n",
        "score=accuracy_score(y_pred, y_val)\n",
        "print(f'Evaluation results on val set')\n",
        "print(f'Accurancy: {score}')"
      ],
      "metadata": {
        "colab": {
          "base_uri": "https://localhost:8080/"
        },
        "id": "9HkUGa_UMfoH",
        "outputId": "ba1eed63-90b7-449f-81ec-7b779f2f2549"
      },
      "execution_count": 51,
      "outputs": [
        {
          "output_type": "stream",
          "name": "stdout",
          "text": [
            "Evaluation results on val set\n",
            "Accurancy: 0.9845201238390093\n"
          ]
        }
      ]
    },
    {
      "cell_type": "code",
      "source": [
        "input_img = img_lst [1]\n",
        "normalized_img = preprocess_img(input_img)\n",
        "y_pred = clf.predict([normalized_img])[0]\n",
        "print(f'Normal prediction: {y_pred}')\n",
        "y_pred_prob = clf.predict_proba([normalized_img])\n",
        "prediction = np.argmax(y_pred_prob)\n",
        "y_pred_prob = [f'{p:.10f}' for p in y_pred_prob[0]]\n",
        "print(f'Probability of each class: {y_pred_prob}')\n",
        "print(f'Class with highest probability: {prediction})')"
      ],
      "metadata": {
        "colab": {
          "base_uri": "https://localhost:8080/"
        },
        "id": "Px1GUlyNOae9",
        "outputId": "ccfeadc7-95f0-4752-ae00-7b99d6dbb0ab"
      },
      "execution_count": 52,
      "outputs": [
        {
          "output_type": "stream",
          "name": "stdout",
          "text": [
            "Normal prediction: 1\n",
            "Probability of each class: ['0.0000000005', '0.9999746838', '0.0000253157']\n",
            "Class with highest probability: 1)\n"
          ]
        }
      ]
    },
    {
      "cell_type": "code",
      "source": [
        "# lấy danh sách các cửa sổ cắt được\n",
        "def sliding_window(img, window_sizes, stride):\n",
        "    img_height, img_width = img.shape[:2]\n",
        "    windows = []\n",
        "    for window_size in window_sizes:\n",
        "        window_width, window_height = window_size\n",
        "        for ymin in range(0, img_height - window_height + 1, stride):\n",
        "            for xmin in range(0, img_width-window_width + 1, stride):\n",
        "                xmax = xmin + window_width\n",
        "                ymax = ymin + window_height\n",
        "                windows.append([xmin, ymin, xmax, ymax])\n",
        "    return windows"
      ],
      "metadata": {
        "id": "Nr30f0_CCYGy"
      },
      "execution_count": 53,
      "outputs": []
    },
    {
      "cell_type": "code",
      "source": [
        "# scale ảnh để bắt được các object nhỏ so với kích thước ảnh\n",
        "def pyramid(img, scale=0.8, min_size=(30, 30)):\n",
        "    acc_scale = 1.0\n",
        "    pyramid_imgs = [(img, acc_scale)]\n",
        "    i = 0\n",
        "    while True:\n",
        "        acc_scale = acc_scale * scale\n",
        "        h = int(img.shape[0] * acc_scale)\n",
        "        w = int(img.shape[1] * acc_scale)\n",
        "        if h<min_size(1) or w < min_size[0]:\n",
        "            break\n",
        "        img = cv2.resize(img, (w, h))\n",
        "        pyramid_imgs.append((img, acc_scale * (scale ** i)))\n",
        "        i += 1\n",
        "    return pyramid_imgs"
      ],
      "metadata": {
        "id": "q_wORaBqIIQa"
      },
      "execution_count": 54,
      "outputs": []
    },
    {
      "cell_type": "code",
      "source": [
        "def visualize_bbox(img, bboxes, label_encoder):\n",
        "    img = cv2.cvtColor(img, cv2.COLOR_BGR2RGB)\n",
        "    for box in bboxes:\n",
        "        xmin, ymin, xmax, ymax, predict_id, conf_score = box\n",
        "        cv2.rectangle(img, (xmin, ymin), (xmax, ymax), (0, 255, 0), 2)\n",
        "        classname=label_encoder.inverse_transform([predict_id])[0]\n",
        "        label=f\"{classname} {conf_score:.2f}\"\n",
        "        (w, h),_ =cv2.getTextSize(label, cv2.FONT_HERSHEY_SIMPLEX, 0.6, 1)\n",
        "        cv2.rectangle(img, (xmin, ymin - 20), (xmin + w, ymin), (0, 255, 0), -1)\n",
        "        cv2.putText(img, label, (xmin, ymin - 5), cv2.FONT_HERSHEY_SIMPLEX, 0.6, (0, 0, 0), 1)\n",
        "plt.imshow(img)\n",
        "plt.axis('off')\n",
        "plt.show()"
      ],
      "metadata": {
        "colab": {
          "base_uri": "https://localhost:8080/",
          "height": 406
        },
        "id": "TeCizIWHM_Ss",
        "outputId": "80d0246d-1af5-4e04-9e73-416103990f92"
      },
      "execution_count": 55,
      "outputs": [
        {
          "output_type": "display_data",
          "data": {
            "text/plain": [
              "<Figure size 640x480 with 1 Axes>"
            ],
            "image/png": "[encoded data removed]"
          },
          "metadata": {}
        }
      ]
    },
    {
      "cell_type": "code",
      "source": [],
      "metadata": {
        "id": "DUstMtG9OEHc"
      },
      "execution_count": null,
      "outputs": []
    }
  ]
}